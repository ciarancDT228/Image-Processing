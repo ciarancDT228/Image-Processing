{
 "cells": [
  {
   "cell_type": "markdown",
   "metadata": {},
   "source": [
    "# Task 1 - Access Pixels\n",
    "1. Read in any image;\n",
    "2. Convert this image to YUV;\n",
    "3. Extract the Y channel (luminance);\n",
    "4. Convert the original image to grayscale (intensity);\n",
    "5. Show the two on the screen using OpenCV's *imshow* function\n",
    "6. Show the luminance on the screen side by side with the intensity using MatPlotLib's *subplot* function"
   ]
  },
  {
   "cell_type": "code",
   "execution_count": 1,
   "metadata": {},
   "outputs": [],
   "source": [
    "%matplotlib inline\n",
    "\n",
    "import cv2 # The OpenCV library; install using `pip install opencv-contrib-python`\n",
    "import numpy as np # Helpful when working with arrays; install using `pip install numpy`\n",
    "from matplotlib import pyplot as plt # Good for graphing; install using `pip install matplotlib`\n",
    "from matplotlib import image as image\n",
    "import easygui # An easy-to-use file-picker; pip install easygui"
   ]
  },
  {
   "cell_type": "markdown",
   "metadata": {},
   "source": [
    "### Read in any image"
   ]
  },
  {
   "cell_type": "code",
   "execution_count": 2,
   "metadata": {},
   "outputs": [],
   "source": [
    "I = cv2.imread(\"sky.jpg\")"
   ]
  },
  {
   "cell_type": "markdown",
   "metadata": {},
   "source": [
    "### Convert this image to YUV"
   ]
  },
  {
   "cell_type": "code",
   "execution_count": 3,
   "metadata": {},
   "outputs": [],
   "source": [
    "YUV = cv2.cvtColor(I, cv2.COLOR_BGR2YUV)\n",
    "cv2.imshow(\"YUV\", YUV)\n",
    "key = cv2.waitKey(0)\n",
    "cv2.destroyAllWindows()"
   ]
  },
  {
   "cell_type": "markdown",
   "metadata": {},
   "source": [
    "### Extract the Y channel (luminance)"
   ]
  },
  {
   "cell_type": "code",
   "execution_count": 4,
   "metadata": {},
   "outputs": [],
   "source": [
    "Y = YUV[:,:,0]\n",
    "#cv2.imshow(\"Y\", Y)\n",
    "#key = cv2.waitKey(0)\n",
    "#cv2.destroyAllWindows()"
   ]
  },
  {
   "cell_type": "markdown",
   "metadata": {},
   "source": [
    "### Convert the original image to grayscale (intensity)"
   ]
  },
  {
   "cell_type": "code",
   "execution_count": 5,
   "metadata": {},
   "outputs": [],
   "source": [
    "I = cv2.cvtColor(I, cv2.COLOR_BGR2GRAY)"
   ]
  },
  {
   "cell_type": "markdown",
   "metadata": {},
   "source": [
    "### Show the two on the screen using OpenCV's *imshow* function"
   ]
  },
  {
   "cell_type": "code",
   "execution_count": 6,
   "metadata": {},
   "outputs": [],
   "source": [
    "cv2.imshow(\"Y\", Y)\n",
    "cv2.imshow(\"I\", I)\n",
    "key = cv2.waitKey(0)\n",
    "cv2.destroyAllWindows()"
   ]
  },
  {
   "cell_type": "markdown",
   "metadata": {},
   "source": [
    "### Show the luminance on the screen side by side with the intensity using MatPlotLib's *subplot* function"
   ]
  },
  {
   "cell_type": "code",
   "execution_count": null,
   "metadata": {},
   "outputs": [],
   "source": [
    "fig,a =  plt.subplots(1,2)\n",
    "a[0].plot(Y)\n",
    "a[0].set_title('Luminance')\n",
    "a[1].plot(I)\n",
    "a[1].set_title('Intensity')\n",
    "plt.show()"
   ]
  }
 ],
 "metadata": {
  "kernelspec": {
   "display_name": "Python 3",
   "language": "python",
   "name": "python3"
  },
  "language_info": {
   "codemirror_mode": {
    "name": "ipython",
    "version": 3
   },
   "file_extension": ".py",
   "mimetype": "text/x-python",
   "name": "python",
   "nbconvert_exporter": "python",
   "pygments_lexer": "ipython3",
   "version": "3.7.9"
  }
 },
 "nbformat": 4,
 "nbformat_minor": 4
}
